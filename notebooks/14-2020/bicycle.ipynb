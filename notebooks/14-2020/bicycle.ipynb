{
 "cells": [
  {
   "cell_type": "markdown",
   "metadata": {},
   "source": [
    "# Exploring the Modes of Motion of a Bicycle\n",
    "\n",
    "Any dynamic system governed by Newton's Laws of Motion that has an equilibrium point and stable behavior can be analyzed as a vibratory system. A bicycle is such a system. It is multi-degree of freedom system in 3D space that can oscillate about a variety of equilibrium points. \n",
    "\n",
    "The free response of a bicycle can exhibit vibrational phenomena. If you push a standard bicycle up to speed and then perturb it, it may vibrate. See the following video from the Ruina Lab at Cornell:"
   ]
  },
  {
   "cell_type": "code",
   "execution_count": null,
   "metadata": {},
   "outputs": [],
   "source": [
    "from IPython.display import YouTubeVideo\n",
    "YouTubeVideo('pOkDbXEJb8E', width=800, height=600)"
   ]
  },
  {
   "cell_type": "markdown",
   "metadata": {},
   "source": [
    "One of the simplest models that can predict the fundamental free motion of a bicycle or motorcycle takes the following linear form:\n",
    "\n",
    "$$\n",
    "\\mathbf{M}\\ddot{\\bar{q}}\n",
    "+v\\mathbf{C}_1\\dot{\\bar{q}}\n",
    "+\\left[g\\mathbf{K}_0\n",
    "+v^2\\mathbf{K}_2\\right]\\bar{q}\n",
    "=\\bar{F}\n",
    "$$\n",
    "\n",
    "where\n",
    "\n",
    "$$\n",
    "\\bar{q} =\n",
    "[\\phi \\quad \\delta]^T\n",
    "$$\n",
    "\n",
    "and\n",
    "\n",
    "$$\n",
    "\\bar{F} = [T_\\phi \\quad T_\\delta]^T\n",
    "$$\n",
    "\n",
    "$\\delta$, the steer angle, is a generalized coordinate that tracks the angle between the front frame (handlebar/fork) and the rear frame (frame, seat, etc) and $\\phi$, the roll angle, is a generalized coordinate that tracks the roll angle of the rear frame relative to the ground. If each of these are zero the bicycle is standing upright and the steering is pointed straight ahead. Positive steer angle is to the right and negative steer angle is to the left. Positive roll is to the right and negative to the left. $T_\\delta$ and $T_\\phi$ are the generalized forces, in the form of torques, associated with the two generalized coordinates. The steer torque $T_\\delta$ is applied between the frame of the bicycle and the handlebars about the steering axis and the roll torque $T_\\phi$ is applied between the frame of the bicycle and the ground about an axis pointing from the rear wheel ground contact to the front wheel ground contact.\n",
    "\n",
    "Note that this is a 2 degree of freedom linear system and can be analyzed as a vibrating system. The system has a mass matrix, $\\mathbf{M}$, and effective damping and stiffness matrices, $\\mathbf{C}=v\\mathbf{C}_1$ and $\\mathbf{K}=g\\mathbf{K}_0 + v^2\\mathbf{K}_2$, that are parameterized by the speed of the bicycle $v$ and the acceleration due to gravity $g$. These matrices are a function of the vehicle's geometry and mass distribution.\n",
    "\n",
    "This model can be constructed by creating an idealized bicycle with four rigid bodies: two wheels, rear frame (main frame and/or rigid person), and front frame (fork/handlebar). The derivation of this model is non-trivial, but you can read about it and more in the 2007 paper: http://rspa.royalsocietypublishing.org/content/463/2084/1955.\n",
    "\n",
    "\n",
    "\n",
    "The following two figures are taken from that paper and are copyrighted to the Royal Society:"
   ]
  },
  {
   "cell_type": "markdown",
   "metadata": {},
   "source": [
    "![bicycle model figure](bicycle-model.jpg)"
   ]
  },
  {
   "cell_type": "markdown",
   "metadata": {},
   "source": [
    "The canonical coefficient matrices are functions of the following 29 constants:"
   ]
  },
  {
   "cell_type": "markdown",
   "metadata": {},
   "source": [
    "![bicycle parameters figure](bicycle-parameters.jpg)"
   ]
  },
  {
   "cell_type": "code",
   "execution_count": null,
   "metadata": {},
   "outputs": [],
   "source": [
    "import numpy as np\n",
    "import matplotlib.pyplot as plt"
   ]
  },
  {
   "cell_type": "code",
   "execution_count": null,
   "metadata": {},
   "outputs": [],
   "source": [
    "np.set_printoptions(precision=4, linewidth=100)"
   ]
  },
  {
   "cell_type": "code",
   "execution_count": null,
   "metadata": {},
   "outputs": [],
   "source": [
    "%matplotlib widget"
   ]
  },
  {
   "cell_type": "markdown",
   "metadata": {},
   "source": [
    "To work with this model you can load in the `BicycleSystem`:"
   ]
  },
  {
   "cell_type": "code",
   "execution_count": null,
   "metadata": {},
   "outputs": [],
   "source": [
    "from resonance.linear_systems import BicycleSystem"
   ]
  },
  {
   "cell_type": "code",
   "execution_count": null,
   "metadata": {},
   "outputs": [],
   "source": [
    "sys = BicycleSystem()"
   ]
  },
  {
   "cell_type": "markdown",
   "metadata": {},
   "source": [
    "Typical values for the paramers in SI units are (from the above table):"
   ]
  },
  {
   "cell_type": "code",
   "execution_count": null,
   "metadata": {},
   "outputs": [],
   "source": [
    "sys.constants"
   ]
  },
  {
   "cell_type": "code",
   "execution_count": null,
   "metadata": {},
   "outputs": [],
   "source": [
    "sys.states"
   ]
  },
  {
   "cell_type": "markdown",
   "metadata": {},
   "source": [
    "The canonical coefficient matrices are given by:"
   ]
  },
  {
   "cell_type": "code",
   "execution_count": null,
   "metadata": {},
   "outputs": [],
   "source": [
    "M, C, K = sys.canonical_coefficients()"
   ]
  },
  {
   "cell_type": "code",
   "execution_count": null,
   "metadata": {},
   "outputs": [],
   "source": [
    "M"
   ]
  },
  {
   "cell_type": "code",
   "execution_count": null,
   "metadata": {},
   "outputs": [],
   "source": [
    "C"
   ]
  },
  {
   "cell_type": "code",
   "execution_count": null,
   "metadata": {},
   "outputs": [],
   "source": [
    "K"
   ]
  },
  {
   "cell_type": "markdown",
   "metadata": {},
   "source": [
    "Note that the mass matrix is symmetric, but the damping and stiffness matrices are not. The symmetric eigenvalue solution cannot be applied then."
   ]
  },
  {
   "cell_type": "markdown",
   "metadata": {},
   "source": [
    "# Modal Solutions\n",
    "\n",
    "The solutions for each mode will take one of the following forms:\n",
    "\n",
    "$$\n",
    "\\bar{x}(t) =  \\bar{X} A e^{\\lambda t}\n",
    "$$\n",
    "\n",
    "or\n",
    "\n",
    "$$\n",
    "\\bar{x}(t) =  \\bar{X} A \\sin(\\omega t + \\phi)\n",
    "$$\n",
    "\n",
    "or\n",
    "\n",
    "$$\n",
    "\\bar{x}(t) =  \\bar{X} A e^{\\lambda t} \\sin(\\omega t + \\phi)\n",
    "$$\n",
    "\n",
    "Just like the single degree of freedom systems we have studied. And just like the undamped multi degree of freedom systems, the parameters of this solution are found by calculating the eigenvalues and eigenvectors."
   ]
  },
  {
   "cell_type": "markdown",
   "metadata": {},
   "source": [
    "# Eigenvalues and Eigenvectors\n",
    "\n",
    "In the previous class we learned that the free response of the system can be formulated by solving an eigenvalue problem. This applies to systems with or without damping. All scientific computing software provides efficient numerical routines to compute the eigenvalues and eigenvectors of a square matrix. In Python you can use `numpy.linalg.eig`. For systems that have a general damping matrix and/or anti-symmetric stiffness matrix, this computation requires that the system be in **state space form**. State space form is the explicit first order form of the linear equations where $\\mathbf{A}$ is the state matrix and $\\mathbf{B}$ is the input matrix.\n",
    "\n",
    "$$\\dot{\\bar{x}} = \\mathbf{A} \\bar{x} + \\mathbf{B}\\bar{u}$$\n",
    "\n",
    "where $\\mathbf{x}$ is the state vector and $\\mathbf{r}$ is the input vector.\n",
    "\n",
    "The transformation from canonical form to state form can be done like so:\n",
    "\n",
    "$$\n",
    "\\bar{x} = \\left[\\bar{c} \\quad \\bar{s}\\right]^T = \\left[\\phi \\quad \\delta \\quad \\dot{\\phi} \\quad \\dot{\\delta}\\right]^T\\\\\n",
    "\\bar{u} = \\bar{F} \\\\\n",
    "\\mathbf{A} = \\begin{bmatrix}\n",
    "\\mathbf{0} & \\mathbf{I} \\\\\n",
    "-\\mathbf{M}^{-1} \\mathbf{K} & -\\mathbf{M}^{-1} \\mathbf{C}\n",
    "\\end{bmatrix}\\\\\n",
    "\\mathbf{B} = \\begin{bmatrix}\n",
    "\\mathbf{0} \\\\\n",
    "\\mathbf{M}^{-1}\n",
    "\\end{bmatrix}\n",
    "$$"
   ]
  },
  {
   "cell_type": "markdown",
   "metadata": {},
   "source": [
    "# Exercise\n",
    "\n",
    "Write a function that takes the matrices $\\mathbf{M,C,K}$ as an inputs and returns the A and B matrices. Make use of `np.zeros()`, `np.eye()`, `np.hstack()` and `np.vstack()` to construct the matrices. These last two functions can be used to construct larger matrices from submatrices, for example:"
   ]
  },
  {
   "cell_type": "code",
   "execution_count": null,
   "metadata": {},
   "outputs": [],
   "source": [
    "np.hstack((np.eye(2), 2*np.eye(2)))"
   ]
  },
  {
   "cell_type": "markdown",
   "metadata": {},
   "source": [
    "Your function should fit this form:\n",
    "\n",
    "```python\n",
    "def compute_state_matrix(M, C, K):\n",
    "    \"\"\"Returns the state matrix.\n",
    "    \n",
    "    Parameters\n",
    "    ----------\n",
    "    M : array_like, shape(2,2)\n",
    "        The mass matrix.\n",
    "    C : array_like, shape(2,2)\n",
    "        The damping matrix.\n",
    "    K : array_like, shape(2,2)\n",
    "        The stiffness matrix.\n",
    "    \n",
    "    Returns\n",
    "    -------\n",
    "\n",
    "    A : ndarray, shape(4,4)\n",
    "        The state matrix.\n",
    "    B : ndarray, shape(4,2)\n",
    "        The input matrix.\n",
    "\n",
    "    \"\"\"\n",
    "    \n",
    "    # write your code here\n",
    "   \n",
    "    return A, B\n",
    "```"
   ]
  },
  {
   "cell_type": "code",
   "execution_count": null,
   "metadata": {
    "jupyter": {
     "source_hidden": true
    }
   },
   "outputs": [],
   "source": [
    "def compute_state_matrix(M, C, K):\n",
    "    \"\"\"Returns the state matrix.\n",
    "    \n",
    "    Parameters\n",
    "    ----------\n",
    "    M : array_like, shape(2,2)\n",
    "        The mass matrix.\n",
    "    C : array_like, shape(2,2)\n",
    "        The damping matrix.\n",
    "    K : array_like, shape(2,2)\n",
    "        The stiffness matrix.\n",
    "    \n",
    "    Returns\n",
    "    -------\n",
    "\n",
    "    A : ndarray, shape(4,4)\n",
    "        The state matrix.\n",
    "    B : ndarray, shape(4,2)\n",
    "        The input matrix.\n",
    "\n",
    "    \"\"\"\n",
    "    \n",
    "    invM = np.linalg.inv(M)\n",
    "    \n",
    "    # sub-matrices\n",
    "    a11 = np.zeros((2, 2))\n",
    "    a12 = np.eye(2)\n",
    "    a21 = -invM @ K\n",
    "    a22 = -invM @ C\n",
    "\n",
    "    Arow1 = np.hstack([a11, a12])\n",
    "    Arow2 = np.hstack([a21, a22])\n",
    "    \n",
    "    A = np.vstack([Arow1, Arow2])\n",
    "    \n",
    "    B = np.vstack([np.zeros((2, 2)), -invM])\n",
    "\n",
    "    return A, B"
   ]
  },
  {
   "cell_type": "markdown",
   "metadata": {},
   "source": [
    "Now use the function to create a state matrix, $\\mathbf{A}$, for $v=5.4 \\textrm{m/s}$ and $g=9.81$. This speed is normal \"around town\" riding speed (12 mph)."
   ]
  },
  {
   "cell_type": "code",
   "execution_count": null,
   "metadata": {},
   "outputs": [],
   "source": [
    "A, B = compute_state_matrix(M, C, K)\n",
    "A, B"
   ]
  },
  {
   "cell_type": "markdown",
   "metadata": {},
   "source": [
    "Now compute the eigenvalues and eigenvectors of the the system using `numpy.linalg.eig`, see https://docs.scipy.org/doc/numpy/reference/generated/numpy.linalg.eig.html."
   ]
  },
  {
   "cell_type": "code",
   "execution_count": null,
   "metadata": {},
   "outputs": [],
   "source": [
    "eigenvalues, eigenvectors = np.linalg.eig(A)"
   ]
  },
  {
   "cell_type": "markdown",
   "metadata": {},
   "source": [
    "The eigenvalues are, in general, complex numbers. The complex eigenvalues come in complex conjugate pairs. Each pair corresponds to one osciallatory mode of motion. The real eigenvalues each correspond to one non-osciallatory mode of motion."
   ]
  },
  {
   "cell_type": "code",
   "execution_count": null,
   "metadata": {},
   "outputs": [],
   "source": [
    "eigenvalues"
   ]
  },
  {
   "cell_type": "code",
   "execution_count": null,
   "metadata": {},
   "outputs": [],
   "source": [
    "eigenvectors"
   ]
  },
  {
   "cell_type": "markdown",
   "metadata": {},
   "source": [
    "# Plot eigenvectors on polar plot"
   ]
  },
  {
   "cell_type": "markdown",
   "metadata": {},
   "source": [
    "One way to visualize the modes of motion is by plotting phasor plots of each of the eigenvector components. Eigenvectors are made up of $n$ components, each which may be real or imaginary, that correspond to the states variables. In our case each each component is tied to the roll angle, steer angle, roll angular rate, and steer angular rate. It is also important to note that the phasor plot for the derivative of one of the variables simply increases the magnitude by a factor $\\omega$ and phase shifts the variable by $90^\\circ$, i.e.:\n",
    "\n",
    "$$\n",
    "\\bar{x}(t) =  A e^{\\lambda t} \\sin(\\omega t + \\phi) \\\\\n",
    "\\bar{x}(t) =  \\omega A e^{\\lambda t} \\cos(\\omega t + \\phi)\n",
    "$$\n",
    "\n",
    "This means that we only need to look at the components associated with the angles to see how the vehicle is moving.\n",
    "\n",
    "A nice way to plot phasors that are using a polar plot."
   ]
  },
  {
   "cell_type": "code",
   "execution_count": null,
   "metadata": {},
   "outputs": [],
   "source": [
    "fig, ax = plt.subplots(1, 1, subplot_kw={'projection': 'polar'})\n",
    "\n",
    "# this gets the first component of the second eigenvector\n",
    "v = eigenvectors[0, 1]     \n",
    "print(v)\n",
    "\n",
    "radius = np.abs(v)  # gives magnitude of the complex value\n",
    "theta = np.angle(v) # gives phase angle of the complex value\n",
    "\n",
    "ax.plot([0, theta], [0, radius])\n",
    "\n",
    "ax.legend([r'$\\phi$'])"
   ]
  },
  {
   "cell_type": "markdown",
   "metadata": {},
   "source": [
    "# Exercise\n",
    "\n",
    "The following function plots the eigenvector components for a provided eigenvalue and eigenvector pair. Use this function to make polar plots for each of the four eigenvalues and eigenvectors. Examine these plots and note down what you see regarding:\n",
    "\n",
    "- The magnitude differences of the coordinates or speeds.\n",
    "- The phase differences between individual coordinates or speeds.\n",
    "- The phase differences between a coordinate and its corresponding speed."
   ]
  },
  {
   "cell_type": "code",
   "execution_count": null,
   "metadata": {},
   "outputs": [],
   "source": [
    "def plot_eigenvector(eigenval, eigenvec):\n",
    "    \"\"\"\n",
    "    \n",
    "    Parameters\n",
    "    ==========\n",
    "    eigenvalue : float\n",
    "        The eigenvalue, may be complex.\n",
    "    eigenvector : ndarray, shape(4,)\n",
    "        The eigenvector, may be complex.\n",
    "        \n",
    "    \"\"\"\n",
    "    \n",
    "    fig, axes = plt.subplots(1, 2, subplot_kw={'projection': 'polar'})\n",
    "    \n",
    "    labels = np.array([r'$\\phi$', r'$\\delta$'])\n",
    "    colors = np.array(['blue', 'red'])\n",
    "    idxs = np.argsort(-np.abs(eigenvec[:2]))\n",
    "    \n",
    "    for component, label, color in zip(eigenvec[:2][idxs], labels[idxs], colors[idxs]):\n",
    "        radius = np.abs(component)\n",
    "        theta = np.angle(component)\n",
    "        axes[0].plot([0, theta], [0, radius], label=label, color=color, linewidth=3)\n",
    "        \n",
    "    labels = np.array([r'$\\dot{\\phi}$', r'$\\dot{\\delta}$'])\n",
    "    idxs = np.argsort(-np.abs(eigenvec[2:]))\n",
    "        \n",
    "    for component, label, color in zip(eigenvec[2:][idxs], labels[idxs], colors[idxs]):\n",
    "        radius = np.abs(component)\n",
    "        theta = np.angle(component)\n",
    "        axes[1].plot([0, theta], [0, radius], label=label, color=color, linewidth=3)\n",
    "\n",
    "    axes[0].legend()\n",
    "    axes[1].legend()\n",
    "\n",
    "    fig.suptitle('{:1.2f}'.format(eigenval))\n",
    "    \n",
    "    fig.tight_layout()\n",
    "    "
   ]
  },
  {
   "cell_type": "code",
   "execution_count": null,
   "metadata": {
    "jupyter": {
     "source_hidden": true
    }
   },
   "outputs": [],
   "source": [
    "plot_eigenvector(eigenvalues[0], eigenvectors[:, 0])"
   ]
  },
  {
   "cell_type": "code",
   "execution_count": null,
   "metadata": {
    "jupyter": {
     "source_hidden": true
    }
   },
   "outputs": [],
   "source": [
    "plot_eigenvector(eigenvalues[1], eigenvectors[:, 1])"
   ]
  },
  {
   "cell_type": "code",
   "execution_count": null,
   "metadata": {
    "jupyter": {
     "source_hidden": true
    }
   },
   "outputs": [],
   "source": [
    "plot_eigenvector(eigenvalues[3], eigenvectors[:, 2])"
   ]
  },
  {
   "cell_type": "code",
   "execution_count": null,
   "metadata": {
    "jupyter": {
     "source_hidden": true
    }
   },
   "outputs": [],
   "source": [
    "plot_eigenvector(eigenvalues[3], eigenvectors[:, 3])"
   ]
  },
  {
   "cell_type": "markdown",
   "metadata": {},
   "source": [
    "# Animate in the phasors\n",
    "\n",
    "Phasors show how the polar plots of the eigenvector components relate to trajectories of the states with respect to time. `Phasor` and `PhasorAnimation` can be used to visualize this relationship."
   ]
  },
  {
   "cell_type": "code",
   "execution_count": null,
   "metadata": {},
   "outputs": [],
   "source": [
    "from resonance.functions import Phasor, PhasorAnimation"
   ]
  },
  {
   "cell_type": "code",
   "execution_count": null,
   "metadata": {},
   "outputs": [],
   "source": [
    "times = np.arange(0, 5, 0.03)\n",
    "\n",
    "i = 0\n",
    "\n",
    "phasors = [\n",
    "    Phasor.from_eig(eigenvectors[0, i], eigenvalues[i]),\n",
    "    Phasor.from_eig(eigenvectors[1, i], eigenvalues[i]),\n",
    "]\n",
    "\n",
    "half_range = np.max(np.abs(eigenvectors[:2, i]))\n",
    "\n",
    "fig = plt.figure()\n",
    "fig.set_size_inches(3, 6)\n",
    "ani = PhasorAnimation(fig, times, phasors, repeat=False,\n",
    "                      re_range=(-half_range, half_range),\n",
    "                      im_range=(-half_range, half_range))"
   ]
  },
  {
   "cell_type": "markdown",
   "metadata": {},
   "source": [
    "# Exercise\n",
    "\n",
    "View the phasor animations for the four eigenvalue and eigenvector pairs and note your observations."
   ]
  },
  {
   "cell_type": "markdown",
   "metadata": {},
   "source": [
    "# Examine the Mode Shape Trajectories\n",
    "\n",
    "Recall that the individual modes can be simulated by setting the initial conditions to that of the eigenvector associated with that mode. For the general, case you need to set the initial conditions to the real part of the eigenvectors."
   ]
  },
  {
   "cell_type": "markdown",
   "metadata": {},
   "source": [
    "# Exercise\n",
    "\n",
    "Plot the trajectories for each mode by setting the initial state to the values of the eigenvectors."
   ]
  },
  {
   "cell_type": "code",
   "execution_count": null,
   "metadata": {
    "jupyter": {
     "source_hidden": true
    }
   },
   "outputs": [],
   "source": [
    "phi0, delta0, phidot0, deltadot0 = np.real(eigenvectors[:, 0])\n",
    "\n",
    "sys.coordinates['phi'] = phi0\n",
    "sys.coordinates['delta'] = delta0\n",
    "sys.speeds['phidot'] = phidot0\n",
    "sys.speeds['deltadot'] = deltadot0\n",
    "\n",
    "traj = sys.free_response(5.0)\n",
    "\n",
    "traj[['phi', 'delta']].plot(subplots=True);"
   ]
  },
  {
   "cell_type": "code",
   "execution_count": null,
   "metadata": {},
   "outputs": [],
   "source": [
    "# write code here"
   ]
  },
  {
   "cell_type": "markdown",
   "metadata": {},
   "source": [
    "# Eigenvalues as functions of constants\n",
    "\n",
    "The eigenvalues and eigenvectors of the system are functions of the constants. This means you can determine stability, mode type, decay/growth rates, time constants, phase shifts, and relative state magnitudes as a function of the constants. This can become a very powerful design tool, as it gives insight to how the constants are related to the dynamics of the system. To start, here is a plot of the real and imaginary parts of the eigenvalues as a function of speed. "
   ]
  },
  {
   "cell_type": "code",
   "execution_count": null,
   "metadata": {},
   "outputs": [],
   "source": [
    "speeds = np.linspace(0, 10, num=100)\n",
    "\n",
    "eigenvalues = np.zeros((len(speeds), 4), dtype=complex)\n",
    "eigenvectors = np.zeros((len(speeds), 4, 4), dtype=complex)\n",
    "\n",
    "for i, v in enumerate(speeds):\n",
    "    sys.constants['v'] = v\n",
    "    M, C, K = sys.canonical_coefficients()\n",
    "    A, B = compute_state_matrix(M, C, K)\n",
    "    eigenvalues[i], eigenvectors[i] = np.linalg.eig(A)"
   ]
  },
  {
   "cell_type": "code",
   "execution_count": null,
   "metadata": {},
   "outputs": [],
   "source": [
    "fig, axes = plt.subplots(2, 1, sharex=True)\n",
    "\n",
    "# plot the real parts of the eigenvalues\n",
    "# provides information on 1) stability, 2) time constants\n",
    "axes[0].plot(speeds, np.real(eigenvalues), 'k.')\n",
    "axes[0].grid()\n",
    "axes[0].set_ylim([-10, 10])\n",
    "axes[0].set_ylabel('Real part [1/s]')\n",
    "\n",
    "# plot the imaginary parts of the eigenvalues\n",
    "# provides information on the magnitude of the oscillation frequency\n",
    "\n",
    "axes[1].plot(speeds, np.imag(eigenvalues), 'k.')\n",
    "axes[1].grid()\n",
    "axes[1].set_ylabel('Imaginary part [rad/s]')\n",
    "axes[1].set_xlabel('Speed [m/s]')"
   ]
  },
  {
   "cell_type": "markdown",
   "metadata": {},
   "source": [
    "# Exercise\n",
    "\n",
    "Choose another constant to investigate other than speed. Plot the real and imaginary parts of the eigenvalues versus that parameter and comment on these aspects:\n",
    "    \n",
    "- For what values of the constant is the system stable and unstable?\n",
    "- For what values of the constant are the modes oscillatory or not?\n",
    "- Do any magnitudes of the time constants or oscillation frequencies stand out?"
   ]
  },
  {
   "cell_type": "code",
   "execution_count": null,
   "metadata": {
    "jupyter": {
     "source_hidden": true
    }
   },
   "outputs": [],
   "source": [
    "sys.constants['v'] = 5.0  # m/s\n",
    "\n",
    "trails = np.linspace(-1.5, 1.5, num=100)\n",
    "\n",
    "eigenvalues = np.zeros((len(trails), 4), dtype=complex)\n",
    "eigenvectors = np.zeros((len(trails), 4, 4), dtype=complex)\n",
    "\n",
    "for i, trail in enumerate(trails):\n",
    "    sys.constants['c'] = trail\n",
    "    M, C, K = sys.canonical_coefficients()\n",
    "    A, B = compute_state_matrix(M, C, K)\n",
    "    eigenvalues[i], eigenvectors[i] = np.linalg.eig(A)\n",
    "\n",
    "fig, axes = plt.subplots(2, 1, sharex=True)\n",
    "\n",
    "# plot the real parts of the eigenvalues\n",
    "# provides information on 1) stability, 2) time constants\n",
    "axes[0].plot(trails, np.real(eigenvalues), 'k.')\n",
    "axes[0].grid()\n",
    "#axes[0].set_ylim([-10, 10])\n",
    "axes[0].set_ylabel('Real part [1/s]')\n",
    "\n",
    "# plot the imaginary parts of the eigenvalues\n",
    "# provides information on the magnitude of the oscillation frequency\n",
    "\n",
    "axes[1].plot(trails, np.imag(eigenvalues), 'k.')\n",
    "axes[1].grid()\n",
    "axes[1].set_ylabel('Imaginary part [rad/s]')\n",
    "axes[1].set_xlabel('Trail [m]')"
   ]
  },
  {
   "cell_type": "markdown",
   "metadata": {},
   "source": [
    "# Exercises\n",
    "\n",
    "Here are some open ended questions that you can explore use this model and by examining the eigenvalues and eigenvectors:\n",
    "\n",
    "1. Remove the gyro effect of the wheels from your model by setting $I_{zz}$ to zero for both wheels. Is your bicycle still stable in some speed range?\n",
    "2. Reverse the trail, $c$, (make negative). Is your bicycle still stable in some speed range?\n",
    "3. Keep the gyro effect and the positive trail but change the mass distribution of the front fork such that the bicycle is always unstable.\n",
    "4. Make a design with negative trail which still shows some stable speed range."
   ]
  }
 ],
 "metadata": {
  "anaconda-cloud": {},
  "kernelspec": {
   "display_name": "Python 3",
   "language": "python",
   "name": "python3"
  },
  "language_info": {
   "codemirror_mode": {
    "name": "ipython",
    "version": 3
   },
   "file_extension": ".py",
   "mimetype": "text/x-python",
   "name": "python",
   "nbconvert_exporter": "python",
   "pygments_lexer": "ipython3",
   "version": "3.6.7"
  }
 },
 "nbformat": 4,
 "nbformat_minor": 4
}
